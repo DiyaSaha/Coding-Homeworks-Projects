{
 "cells": [
  {
   "cell_type": "code",
   "execution_count": 21,
   "id": "ee195613",
   "metadata": {},
   "outputs": [],
   "source": [
    "#Project = Analyzing SNP Data \n",
    "\n",
    "#Analyzing data from sets of single nucleotide polymorphisms (SNPs) that \n",
    "#commonly vary in the human population. There are two datasets, extracted from \n",
    "#http://23andme.com, one from the fictitious male, Greg Mendel, and the other from his wife, Lilly \n",
    "#Mendel.  "
   ]
  },
  {
   "cell_type": "code",
   "execution_count": 2,
   "id": "dc5831f7",
   "metadata": {},
   "outputs": [],
   "source": [
    "#Data in these files are poorly formatted. For example the a line in the file:\n",
    "# rs3094315chr1-742429(A,G) has information that can be parsed out into:\n",
    "#id Chr Position SNP1 SNP2 \n",
    "#rs3094315 1 742429 A G \n",
    "\n",
    "#Therefore, the next step will extract all useful data from the files"
   ]
  },
  {
   "cell_type": "code",
   "execution_count": 10,
   "id": "135c9aeb",
   "metadata": {},
   "outputs": [
    {
     "name": "stdout",
     "output_type": "stream",
     "text": [
      "Preview first line of Greg_file\n",
      "['rs3094315chr1-742429(A,G)\\n']\n",
      "Preview first line of Lily_file\n",
      "['rs3094315chr1-742429(A,A)\\n']\n"
     ]
    }
   ],
   "source": [
    "greg_file = open('GregMendel_SNPs.txt','r')\n",
    "lilly_file = open('LillyMendel_SNPs.txt','r')\n",
    "\n",
    "print('Preview first line of Greg_file')\n",
    "print(greg_file.readlines()[0:1])\n",
    "\n",
    "print('Preview first line of Lily_file')\n",
    "print(lilly_file.readlines()[0:1])\n",
    "\n",
    "greg_file.close()\n",
    "lilly_file.close()"
   ]
  },
  {
   "cell_type": "code",
   "execution_count": 7,
   "id": "11bf61a9",
   "metadata": {},
   "outputs": [],
   "source": [
    "def read_SNP_file(filename): \n",
    "    '''\n",
    "    Purpose: Create a dictionary parsing out important information from filename provided\n",
    "    Attributes: filename.txt of the SNPs stored\n",
    "    Return: Dictionary with parsed out columns - ID, SNP, Chromose, Position\n",
    "    '''\n",
    "    id_list = []\n",
    "    chrom = []\n",
    "    pos = []\n",
    "    SNP = []\n",
    "    file = open(str(filename),'r')\n",
    "    for line in file.readlines():\n",
    "        line = line.strip()\n",
    "        line.rstrip()\n",
    "        id_list.append(line.split('chr')[0])\n",
    "        SNP1 = line.split('chr')[1].split('(')[1].split(',')[0]\n",
    "        SNP2 = line.split('chr')[1].split('(')[1].split(',')[1].split(')')[0]\n",
    "        SNP.append(SNP1+SNP2)\n",
    "        chrom.append((line.split('chr')[1]).split('-')[0])\n",
    "        pos.append(((line.split('chr')[1]).split('-')[1]).split('(')[0])\n",
    "    dict_SNP = {'ID':id_list,'SNP': SNP,'chr':chrom, 'position':pos}\n",
    "    return dict_SNP"
   ]
  },
  {
   "cell_type": "code",
   "execution_count": 11,
   "id": "1e32bb92",
   "metadata": {},
   "outputs": [],
   "source": [
    "Greg_dict = read_SNP_file('GregMendel_SNPs.txt')\n",
    "Lilly_dict = read_SNP_file('LillyMendel_SNPs.txt')"
   ]
  },
  {
   "cell_type": "code",
   "execution_count": 16,
   "id": "f4e0ede5",
   "metadata": {},
   "outputs": [
    {
     "data": {
      "text/plain": [
       "'\\nChromosome Position Lilly Greg \\n10 31,000 AA AT \\n10 31,123 TT TT \\n10 31,319 AT AT \\n10 31,625 CC CC \\n10 31,779 GA CC\\n'"
      ]
     },
     "execution_count": 16,
     "metadata": {},
     "output_type": "execute_result"
    }
   ],
   "source": [
    "#On Chromosome 10, finding the largest region of shared SNPs between Lilly and Greg. \n",
    "#Below is an example of a region of shared SNPs between positions 31,123 and 31625.\n",
    "'''\n",
    "Chromosome Position Lilly Greg \n",
    "10 31,000 AA AT \n",
    "10 31,123 TT TT \n",
    "10 31,319 AT AT \n",
    "10 31,625 CC CC \n",
    "10 31,779 GA CC\n",
    "'''"
   ]
  },
  {
   "cell_type": "code",
   "execution_count": 20,
   "id": "ac984ef1",
   "metadata": {},
   "outputs": [
    {
     "name": "stdout",
     "output_type": "stream",
     "text": [
      "max shared SNPs region: 114\n",
      "Largest SNPs shared region between Lilly and Greg on Chromosome 10 was between position 73515890 and position 74789905\n"
     ]
    }
   ],
   "source": [
    "global_start = 0\n",
    "global_end = 0\n",
    "global_max =  0\n",
    "local_start = 0\n",
    "local_end = 0\n",
    "local_max = 0\n",
    "for index in range(len(Greg_dict['ID'])):\n",
    "    mychr = Greg_dict['chr'][index]\n",
    "    if mychr == '10':\n",
    "        mypos = Greg_dict['position'][index]\n",
    "        Greg_SNP = Greg_dict['SNP'][index]\n",
    "        Lilly_SNP = Lilly_dict['SNP'][index]\n",
    "        if Lilly_SNP == Greg_SNP: \n",
    "            if local_max == 0:\n",
    "                local_start = Greg_dict['position'][index] \n",
    "                local_max += 1\n",
    "            else:\n",
    "                local_max += 1\n",
    "        else:\n",
    "            local_end = Greg_dict['position'][index - 1]\n",
    "            if local_max > global_max: #Current shared region has more SNPs than the maximum region so far\n",
    "                global_max = local_max\n",
    "                global_start = local_start\n",
    "                global_end = local_end\n",
    "            #reset/reinitialize local variables\n",
    "            local_max = 0\n",
    "            local_start = 0\n",
    "            local_end = 0\n",
    "\n",
    "print('max shared SNPs region:',global_max)\n",
    "print('Largest SNPs shared region between Lilly and Greg on Chromosome 10 was between position {} and position {}'.format(global_start,global_end))"
   ]
  },
  {
   "cell_type": "code",
   "execution_count": 28,
   "id": "39ecb2b1",
   "metadata": {},
   "outputs": [
    {
     "data": {
      "text/plain": [
       "'\\nSNP_definitions.txt contains descriptions/information about the effects of various SNPs\\nTherefore, next step is to extract the data and create a dictionary\\nKey = (SNP ID, SNP); Value = Description of the effect\\n'"
      ]
     },
     "execution_count": 28,
     "metadata": {},
     "output_type": "execute_result"
    }
   ],
   "source": [
    "'''\n",
    "SNP_definitions.txt contains descriptions/information about the effects of various SNPs\n",
    "Therefore, next step is to extract the data and create a dictionary\n",
    "Key = (SNP ID, SNP); Value = Description of \n",
    "'''"
   ]
  },
  {
   "cell_type": "code",
   "execution_count": 29,
   "id": "337359f1",
   "metadata": {},
   "outputs": [],
   "source": [
    "SNP_id = []\n",
    "descrip = []\n",
    "genotype = []\n",
    "SNPdef_file = open('SNP_definitions.txt','r')\n",
    "\n",
    "for line in SNPdef_file.readlines()[1:]:\n",
    "    line = line.strip()\n",
    "    line.rstrip()\n",
    "    line = line.split('\\t')\n",
    "    SNP_id.append(line[0])\n",
    "    genotype.append(line[1])\n",
    "    descrip.append(line[2])\n",
    "SNPdef_dict = {}\n",
    "for i in range(len(descrip)):\n",
    "    mykey = SNP_id[i], genotype[i]\n",
    "    SNPdef_dict[mykey] = descrip[i]\n",
    "        \n",
    "SNPdef_file.close()"
   ]
  },
  {
   "cell_type": "code",
   "execution_count": 30,
   "id": "9b290a88",
   "metadata": {},
   "outputs": [],
   "source": [
    "#How can this dictionary be used? To answer questions like:\n",
    "#\"what does the region between positions \n",
    "#22070000 and 22106000 on chromosome 9 suggest about Greg’s chance of heart disease?\n",
    "#What about Lilly’s chance of heart disease? \""
   ]
  },
  {
   "cell_type": "code",
   "execution_count": 33,
   "id": "5121e9f0",
   "metadata": {},
   "outputs": [
    {
     "name": "stdout",
     "output_type": "stream",
     "text": [
      "Gregs risk for heart attack\n",
      "\"1.24x increased myocardial infarction risk, 1.29x increased aneurysm risk\"\n",
      "~1.2x increased risk for heart disease\n",
      "1.4x increased risk for heart disease\n",
      "increased risk for heart disease\n",
      "-----------------------------\n",
      "Lillys risk for heart attack\n",
      "normal\n",
      "normal\n",
      "normal\n",
      "normal\n"
     ]
    }
   ],
   "source": [
    "def disease(dictionary, pos1, pos2, chromosome):\n",
    "    disease_list = []\n",
    "    for i in range(len(dictionary['chr'])):\n",
    "        if (dictionary['chr'][i] == str(chromosome)) and (pos1 < int(dictionary['position'][i]) < pos2):\n",
    "            disease_SNP = dictionary['SNP'][i]\n",
    "            disease_ID = dictionary['ID'][i]\n",
    "            for keys in SNPdef_dict.keys():\n",
    "                if (disease_ID,disease_SNP) == keys:\n",
    "                    disease_list.append(SNPdef_dict[keys])\n",
    "    return print(*disease_list,sep = '\\n')\n",
    "\n",
    "print('Gregs risk for heart attack')\n",
    "disease(Greg_dict, 22070000, 22106000, 9)\n",
    "print('-----------------------------')\n",
    "print('Lillys risk for heart attack')\n",
    "disease(Lilly_dict, 22070000, 22106000, 9)"
   ]
  },
  {
   "cell_type": "code",
   "execution_count": null,
   "id": "4dcd5747",
   "metadata": {},
   "outputs": [],
   "source": []
  }
 ],
 "metadata": {
  "kernelspec": {
   "display_name": "Python 3",
   "language": "python",
   "name": "python3"
  },
  "language_info": {
   "codemirror_mode": {
    "name": "ipython",
    "version": 3
   },
   "file_extension": ".py",
   "mimetype": "text/x-python",
   "name": "python",
   "nbconvert_exporter": "python",
   "pygments_lexer": "ipython3",
   "version": "3.8.8"
  }
 },
 "nbformat": 4,
 "nbformat_minor": 5
}
