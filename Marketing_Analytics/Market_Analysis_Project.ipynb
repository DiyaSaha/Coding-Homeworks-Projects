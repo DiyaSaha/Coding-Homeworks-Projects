{
  "nbformat": 4,
  "nbformat_minor": 0,
  "metadata": {
    "colab": {
      "name": "Market_Analysis_Project.ipynb",
      "provenance": [],
      "authorship_tag": "ABX9TyNBbtoBjkC1TrQyjg87OUbV",
      "include_colab_link": true
    },
    "kernelspec": {
      "name": "python3",
      "display_name": "Python 3"
    },
    "language_info": {
      "name": "python"
    }
  },
  "cells": [
    {
      "cell_type": "markdown",
      "metadata": {
        "id": "view-in-github",
        "colab_type": "text"
      },
      "source": [
        "<a href=\"https://colab.research.google.com/github/DiyaSaha/Coding-Homeworks-Projects/blob/main/Marketing_Analytics/Market_Analysis_Project.ipynb\" target=\"_parent\"><img src=\"https://colab.research.google.com/assets/colab-badge.svg\" alt=\"Open In Colab\"/></a>"
      ]
    },
    {
      "cell_type": "code",
      "metadata": {
        "id": "N2tdx4Odfr8n"
      },
      "source": [
        "#Importing Modules\n",
        "import pandas as pd\n",
        "import matplotlib.pyplot as plt\n",
        "import seaborn as sns\n",
        "from sklearn.impute import KNNImputer\n",
        "import numpy as np\n",
        "import warnings\n"
      ],
      "execution_count": null,
      "outputs": []
    },
    {
      "cell_type": "markdown",
      "metadata": {
        "id": "LAZF1JYA1VJK"
      },
      "source": [
        "Data set used from Kaggle, hosted on GitHub"
      ]
    },
    {
      "cell_type": "code",
      "metadata": {
        "id": "XJNScXEYfvvA",
        "colab": {
          "base_uri": "https://localhost:8080/",
          "height": 224
        },
        "outputId": "4e5faae1-c3d8-4ec7-ca8c-04f2ff14cfb2"
      },
      "source": [
        "df = pd.read_csv('https://raw.githubusercontent.com/DiyaSaha/Coding-Homeworks-Projects/main/Marketing_Analysis/marketing_data.csv', header = 0)\n",
        "df.head()"
      ],
      "execution_count": null,
      "outputs": [
        {
          "output_type": "execute_result",
          "data": {
            "text/html": [
              "<div>\n",
              "<style scoped>\n",
              "    .dataframe tbody tr th:only-of-type {\n",
              "        vertical-align: middle;\n",
              "    }\n",
              "\n",
              "    .dataframe tbody tr th {\n",
              "        vertical-align: top;\n",
              "    }\n",
              "\n",
              "    .dataframe thead th {\n",
              "        text-align: right;\n",
              "    }\n",
              "</style>\n",
              "<table border=\"1\" class=\"dataframe\">\n",
              "  <thead>\n",
              "    <tr style=\"text-align: right;\">\n",
              "      <th></th>\n",
              "      <th>ID</th>\n",
              "      <th>Year_Birth</th>\n",
              "      <th>Education</th>\n",
              "      <th>Marital_Status</th>\n",
              "      <th>Income</th>\n",
              "      <th>Kidhome</th>\n",
              "      <th>Teenhome</th>\n",
              "      <th>Dt_Customer</th>\n",
              "      <th>Recency</th>\n",
              "      <th>MntWines</th>\n",
              "      <th>MntFruits</th>\n",
              "      <th>MntMeatProducts</th>\n",
              "      <th>MntFishProducts</th>\n",
              "      <th>MntSweetProducts</th>\n",
              "      <th>MntGoldProds</th>\n",
              "      <th>NumDealsPurchases</th>\n",
              "      <th>NumWebPurchases</th>\n",
              "      <th>NumCatalogPurchases</th>\n",
              "      <th>NumStorePurchases</th>\n",
              "      <th>NumWebVisitsMonth</th>\n",
              "      <th>AcceptedCmp3</th>\n",
              "      <th>AcceptedCmp4</th>\n",
              "      <th>AcceptedCmp5</th>\n",
              "      <th>AcceptedCmp1</th>\n",
              "      <th>AcceptedCmp2</th>\n",
              "      <th>Response</th>\n",
              "      <th>Complain</th>\n",
              "      <th>Country</th>\n",
              "    </tr>\n",
              "  </thead>\n",
              "  <tbody>\n",
              "    <tr>\n",
              "      <th>0</th>\n",
              "      <td>1826</td>\n",
              "      <td>1970</td>\n",
              "      <td>Graduation</td>\n",
              "      <td>Divorced</td>\n",
              "      <td>$84,835.00</td>\n",
              "      <td>0</td>\n",
              "      <td>0</td>\n",
              "      <td>6/16/14</td>\n",
              "      <td>0</td>\n",
              "      <td>189</td>\n",
              "      <td>104</td>\n",
              "      <td>379</td>\n",
              "      <td>111</td>\n",
              "      <td>189</td>\n",
              "      <td>218</td>\n",
              "      <td>1</td>\n",
              "      <td>4</td>\n",
              "      <td>4</td>\n",
              "      <td>6</td>\n",
              "      <td>1</td>\n",
              "      <td>0</td>\n",
              "      <td>0</td>\n",
              "      <td>0</td>\n",
              "      <td>0</td>\n",
              "      <td>0</td>\n",
              "      <td>1</td>\n",
              "      <td>0</td>\n",
              "      <td>SP</td>\n",
              "    </tr>\n",
              "    <tr>\n",
              "      <th>1</th>\n",
              "      <td>1</td>\n",
              "      <td>1961</td>\n",
              "      <td>Graduation</td>\n",
              "      <td>Single</td>\n",
              "      <td>$57,091.00</td>\n",
              "      <td>0</td>\n",
              "      <td>0</td>\n",
              "      <td>6/15/14</td>\n",
              "      <td>0</td>\n",
              "      <td>464</td>\n",
              "      <td>5</td>\n",
              "      <td>64</td>\n",
              "      <td>7</td>\n",
              "      <td>0</td>\n",
              "      <td>37</td>\n",
              "      <td>1</td>\n",
              "      <td>7</td>\n",
              "      <td>3</td>\n",
              "      <td>7</td>\n",
              "      <td>5</td>\n",
              "      <td>0</td>\n",
              "      <td>0</td>\n",
              "      <td>0</td>\n",
              "      <td>0</td>\n",
              "      <td>1</td>\n",
              "      <td>1</td>\n",
              "      <td>0</td>\n",
              "      <td>CA</td>\n",
              "    </tr>\n",
              "    <tr>\n",
              "      <th>2</th>\n",
              "      <td>10476</td>\n",
              "      <td>1958</td>\n",
              "      <td>Graduation</td>\n",
              "      <td>Married</td>\n",
              "      <td>$67,267.00</td>\n",
              "      <td>0</td>\n",
              "      <td>1</td>\n",
              "      <td>5/13/14</td>\n",
              "      <td>0</td>\n",
              "      <td>134</td>\n",
              "      <td>11</td>\n",
              "      <td>59</td>\n",
              "      <td>15</td>\n",
              "      <td>2</td>\n",
              "      <td>30</td>\n",
              "      <td>1</td>\n",
              "      <td>3</td>\n",
              "      <td>2</td>\n",
              "      <td>5</td>\n",
              "      <td>2</td>\n",
              "      <td>0</td>\n",
              "      <td>0</td>\n",
              "      <td>0</td>\n",
              "      <td>0</td>\n",
              "      <td>0</td>\n",
              "      <td>0</td>\n",
              "      <td>0</td>\n",
              "      <td>US</td>\n",
              "    </tr>\n",
              "    <tr>\n",
              "      <th>3</th>\n",
              "      <td>1386</td>\n",
              "      <td>1967</td>\n",
              "      <td>Graduation</td>\n",
              "      <td>Together</td>\n",
              "      <td>$32,474.00</td>\n",
              "      <td>1</td>\n",
              "      <td>1</td>\n",
              "      <td>5/11/14</td>\n",
              "      <td>0</td>\n",
              "      <td>10</td>\n",
              "      <td>0</td>\n",
              "      <td>1</td>\n",
              "      <td>0</td>\n",
              "      <td>0</td>\n",
              "      <td>0</td>\n",
              "      <td>1</td>\n",
              "      <td>1</td>\n",
              "      <td>0</td>\n",
              "      <td>2</td>\n",
              "      <td>7</td>\n",
              "      <td>0</td>\n",
              "      <td>0</td>\n",
              "      <td>0</td>\n",
              "      <td>0</td>\n",
              "      <td>0</td>\n",
              "      <td>0</td>\n",
              "      <td>0</td>\n",
              "      <td>AUS</td>\n",
              "    </tr>\n",
              "    <tr>\n",
              "      <th>4</th>\n",
              "      <td>5371</td>\n",
              "      <td>1989</td>\n",
              "      <td>Graduation</td>\n",
              "      <td>Single</td>\n",
              "      <td>$21,474.00</td>\n",
              "      <td>1</td>\n",
              "      <td>0</td>\n",
              "      <td>4/8/14</td>\n",
              "      <td>0</td>\n",
              "      <td>6</td>\n",
              "      <td>16</td>\n",
              "      <td>24</td>\n",
              "      <td>11</td>\n",
              "      <td>0</td>\n",
              "      <td>34</td>\n",
              "      <td>2</td>\n",
              "      <td>3</td>\n",
              "      <td>1</td>\n",
              "      <td>2</td>\n",
              "      <td>7</td>\n",
              "      <td>1</td>\n",
              "      <td>0</td>\n",
              "      <td>0</td>\n",
              "      <td>0</td>\n",
              "      <td>0</td>\n",
              "      <td>1</td>\n",
              "      <td>0</td>\n",
              "      <td>SP</td>\n",
              "    </tr>\n",
              "  </tbody>\n",
              "</table>\n",
              "</div>"
            ],
            "text/plain": [
              "      ID  Year_Birth   Education  ... Response Complain  Country\n",
              "0   1826        1970  Graduation  ...        1        0       SP\n",
              "1      1        1961  Graduation  ...        1        0       CA\n",
              "2  10476        1958  Graduation  ...        0        0       US\n",
              "3   1386        1967  Graduation  ...        0        0      AUS\n",
              "4   5371        1989  Graduation  ...        1        0       SP\n",
              "\n",
              "[5 rows x 28 columns]"
            ]
          },
          "metadata": {},
          "execution_count": 3
        }
      ]
    },
    {
      "cell_type": "markdown",
      "metadata": {
        "id": "QJh7aGTi1mgX"
      },
      "source": [
        "EXPLORATORY ANALAYSIS "
      ]
    },
    {
      "cell_type": "markdown",
      "metadata": {
        "id": "0jBV3h_g1owy"
      },
      "source": [
        "Section 1) Imorting data and manupulating variables"
      ]
    },
    {
      "cell_type": "code",
      "metadata": {
        "colab": {
          "base_uri": "https://localhost:8080/"
        },
        "id": "JSF57Wb11a6o",
        "outputId": "4611823f-b37d-431f-89fa-2b8a16698579"
      },
      "source": [
        "print(df.info())\n",
        "print(df.columns.values) "
      ],
      "execution_count": null,
      "outputs": [
        {
          "output_type": "stream",
          "name": "stdout",
          "text": [
            "<class 'pandas.core.frame.DataFrame'>\n",
            "RangeIndex: 2240 entries, 0 to 2239\n",
            "Data columns (total 28 columns):\n",
            " #   Column               Non-Null Count  Dtype \n",
            "---  ------               --------------  ----- \n",
            " 0   ID                   2240 non-null   int64 \n",
            " 1   Year_Birth           2240 non-null   int64 \n",
            " 2   Education            2240 non-null   object\n",
            " 3   Marital_Status       2240 non-null   object\n",
            " 4    Income              2216 non-null   object\n",
            " 5   Kidhome              2240 non-null   int64 \n",
            " 6   Teenhome             2240 non-null   int64 \n",
            " 7   Dt_Customer          2240 non-null   object\n",
            " 8   Recency              2240 non-null   int64 \n",
            " 9   MntWines             2240 non-null   int64 \n",
            " 10  MntFruits            2240 non-null   int64 \n",
            " 11  MntMeatProducts      2240 non-null   int64 \n",
            " 12  MntFishProducts      2240 non-null   int64 \n",
            " 13  MntSweetProducts     2240 non-null   int64 \n",
            " 14  MntGoldProds         2240 non-null   int64 \n",
            " 15  NumDealsPurchases    2240 non-null   int64 \n",
            " 16  NumWebPurchases      2240 non-null   int64 \n",
            " 17  NumCatalogPurchases  2240 non-null   int64 \n",
            " 18  NumStorePurchases    2240 non-null   int64 \n",
            " 19  NumWebVisitsMonth    2240 non-null   int64 \n",
            " 20  AcceptedCmp3         2240 non-null   int64 \n",
            " 21  AcceptedCmp4         2240 non-null   int64 \n",
            " 22  AcceptedCmp5         2240 non-null   int64 \n",
            " 23  AcceptedCmp1         2240 non-null   int64 \n",
            " 24  AcceptedCmp2         2240 non-null   int64 \n",
            " 25  Response             2240 non-null   int64 \n",
            " 26  Complain             2240 non-null   int64 \n",
            " 27  Country              2240 non-null   object\n",
            "dtypes: int64(23), object(5)\n",
            "memory usage: 490.1+ KB\n",
            "None\n",
            "['ID' 'Year_Birth' 'Education' 'Marital_Status' ' Income ' 'Kidhome'\n",
            " 'Teenhome' 'Dt_Customer' 'Recency' 'MntWines' 'MntFruits'\n",
            " 'MntMeatProducts' 'MntFishProducts' 'MntSweetProducts' 'MntGoldProds'\n",
            " 'NumDealsPurchases' 'NumWebPurchases' 'NumCatalogPurchases'\n",
            " 'NumStorePurchases' 'NumWebVisitsMonth' 'AcceptedCmp3' 'AcceptedCmp4'\n",
            " 'AcceptedCmp5' 'AcceptedCmp1' 'AcceptedCmp2' 'Response' 'Complain'\n",
            " 'Country']\n"
          ]
        }
      ]
    },
    {
      "cell_type": "markdown",
      "metadata": {
        "id": "vOH0EVgh1zvD"
      },
      "source": [
        "Straight away, it can be seen that the column name 'Income' has some whitespace which will create issues when referencing this \n",
        "column futher down in the project. Therefore, all names will be checked for whitespace for thoroughness."
      ]
    },
    {
      "cell_type": "code",
      "metadata": {
        "colab": {
          "base_uri": "https://localhost:8080/"
        },
        "id": "uKWZ_d3n1goH",
        "outputId": "8da6f606-050e-4e16-dba2-cf16aa6a163a"
      },
      "source": [
        "df.columns = df.columns.str.strip(' ')\n",
        "print(df.columns.values)"
      ],
      "execution_count": null,
      "outputs": [
        {
          "output_type": "stream",
          "name": "stdout",
          "text": [
            "['ID' 'Year_Birth' 'Education' 'Marital_Status' 'Income' 'Kidhome'\n",
            " 'Teenhome' 'Dt_Customer' 'Recency' 'MntWines' 'MntFruits'\n",
            " 'MntMeatProducts' 'MntFishProducts' 'MntSweetProducts' 'MntGoldProds'\n",
            " 'NumDealsPurchases' 'NumWebPurchases' 'NumCatalogPurchases'\n",
            " 'NumStorePurchases' 'NumWebVisitsMonth' 'AcceptedCmp3' 'AcceptedCmp4'\n",
            " 'AcceptedCmp5' 'AcceptedCmp1' 'AcceptedCmp2' 'Response' 'Complain'\n",
            " 'Country']\n"
          ]
        }
      ]
    },
    {
      "cell_type": "markdown",
      "metadata": {
        "id": "BSd0XlyO2x2A"
      },
      "source": [
        "Next thing that can be noticed is that the all columns have 2240 elements except the Income column. This will be investigated further below:"
      ]
    },
    {
      "cell_type": "code",
      "metadata": {
        "colab": {
          "base_uri": "https://localhost:8080/"
        },
        "id": "3FKpdMwp26ee",
        "outputId": "f58c7b75-851d-46b6-f884-7eae419aad5d"
      },
      "source": [
        "count_nan_in_df = df.isnull().sum()\n",
        "print(count_nan_in_df)"
      ],
      "execution_count": null,
      "outputs": [
        {
          "output_type": "stream",
          "name": "stdout",
          "text": [
            "ID                      0\n",
            "Year_Birth              0\n",
            "Education               0\n",
            "Marital_Status          0\n",
            "Income                 24\n",
            "Kidhome                 0\n",
            "Teenhome                0\n",
            "Dt_Customer             0\n",
            "Recency                 0\n",
            "MntWines                0\n",
            "MntFruits               0\n",
            "MntMeatProducts         0\n",
            "MntFishProducts         0\n",
            "MntSweetProducts        0\n",
            "MntGoldProds            0\n",
            "NumDealsPurchases       0\n",
            "NumWebPurchases         0\n",
            "NumCatalogPurchases     0\n",
            "NumStorePurchases       0\n",
            "NumWebVisitsMonth       0\n",
            "AcceptedCmp3            0\n",
            "AcceptedCmp4            0\n",
            "AcceptedCmp5            0\n",
            "AcceptedCmp1            0\n",
            "AcceptedCmp2            0\n",
            "Response                0\n",
            "Complain                0\n",
            "Country                 0\n",
            "dtype: int64\n"
          ]
        }
      ]
    },
    {
      "cell_type": "markdown",
      "metadata": {
        "id": "wppCMfA43FCh"
      },
      "source": [
        "This shows that 24 null values in the Income value would bring it to the total number of elements present in every column (2240). To deal with the missing values present in this column, the first step taken is to change it from the format of string to float"
      ]
    },
    {
      "cell_type": "code",
      "metadata": {
        "id": "pRtMCH793qFK"
      },
      "source": [
        "df.loc[df['Income'].isnull(),'value_is_nan'] = 1\n",
        "df.loc[df['Income'].notnull(), 'value_is_nan'] = 0\n",
        "\n",
        "#need income in float to actually use for analysis\n",
        "df['Income'] = df['Income'].str.replace('$','').str.replace(',','').astype(float)"
      ],
      "execution_count": null,
      "outputs": []
    },
    {
      "cell_type": "markdown",
      "metadata": {
        "id": "gDR18eHfznzc"
      },
      "source": [
        "Next, we are going to visualize the distribution of the income to get a better idea of the spread "
      ]
    },
    {
      "cell_type": "code",
      "metadata": {
        "colab": {
          "base_uri": "https://localhost:8080/",
          "height": 366
        },
        "id": "BLo31Ocnzww2",
        "outputId": "425864b1-682f-44bd-8d65-21a35039fa48"
      },
      "source": [
        "plt.figure(figsize=(8,4))\n",
        "sns.distplot(df['Income'], hist=True)\n",
        "plt.title('Intial Income Distribution')\n",
        "plt.ylabel('Count')"
      ],
      "execution_count": null,
      "outputs": [
        {
          "output_type": "stream",
          "name": "stderr",
          "text": [
            "/usr/local/lib/python3.7/dist-packages/seaborn/distributions.py:2619: FutureWarning: `distplot` is a deprecated function and will be removed in a future version. Please adapt your code to use either `displot` (a figure-level function with similar flexibility) or `histplot` (an axes-level function for histograms).\n",
            "  warnings.warn(msg, FutureWarning)\n"
          ]
        },
        {
          "output_type": "execute_result",
          "data": {
            "text/plain": [
              "Text(0, 0.5, 'Count')"
            ]
          },
          "metadata": {},
          "execution_count": 8
        },
        {
          "output_type": "display_data",
          "data": {
            "image/png": "[encoded data removed]",
            "text/plain": [
              "<Figure size 576x288 with 1 Axes>"
            ]
          },
          "metadata": {
            "needs_background": "light"
          }
        }
      ]
    },
    {
      "cell_type": "code",
      "metadata": {
        "colab": {
          "base_uri": "https://localhost:8080/",
          "height": 265
        },
        "id": "xXB3Cdq003pE",
        "outputId": "64855653-5c8d-420b-d153-3284301e7dcc"
      },
      "source": [
        "sns.set_theme(style=\"whitegrid\")\n",
        "sns.boxplot(y=df[\"Income\"])"
      ],
      "execution_count": null,
      "outputs": [
        {
          "output_type": "execute_result",
          "data": {
            "text/plain": [
              "<matplotlib.axes._subplots.AxesSubplot at 0x7fc25cbbb450>"
            ]
          },
          "metadata": {},
          "execution_count": 9
        },
        {
          "output_type": "display_data",
          "data": {
            "image/png": "[encoded data removed]",
            "text/plain": [
              "<Figure size 432x288 with 1 Axes>"
            ]
          },
          "metadata": {}
        }
      ]
    },
    {
      "cell_type": "markdown",
      "metadata": {
        "id": "8H93JuaQ0QER"
      },
      "source": [
        "The box plot and distribution shows that there is one high value (above 600k which seems unlikely) present which can skew the average - hence, cannot use this method to fill the missing values. While median of the distribution can be used, I want to make sure I dont lose the relationship between Birth, Education etc and Income value when prediciting the missing values. Hence, I will be using K-nearest neighbors here. "
      ]
    },
    {
      "cell_type": "code",
      "metadata": {
        "colab": {
          "base_uri": "https://localhost:8080/",
          "height": 367
        },
        "id": "A6llD48015Kw",
        "outputId": "7a40b5ca-26d5-49cb-c1ba-2cd71c3161f6"
      },
      "source": [
        "imputer = KNNImputer(n_neighbors=5, weights=\"uniform\")\n",
        "df['imputed_income'] = imputer.fit_transform(df[['Income']])\n",
        "plt.figure(figsize=(8,4))\n",
        "sns.distplot(df['imputed_income'], hist=True)\n",
        "plt.title('Income distribution after Imputation')\n",
        "plt.ylabel('Count')"
      ],
      "execution_count": null,
      "outputs": [
        {
          "output_type": "stream",
          "name": "stderr",
          "text": [
            "/usr/local/lib/python3.7/dist-packages/seaborn/distributions.py:2619: FutureWarning: `distplot` is a deprecated function and will be removed in a future version. Please adapt your code to use either `displot` (a figure-level function with similar flexibility) or `histplot` (an axes-level function for histograms).\n",
            "  warnings.warn(msg, FutureWarning)\n"
          ]
        },
        {
          "output_type": "execute_result",
          "data": {
            "text/plain": [
              "Text(0, 0.5, 'Count')"
            ]
          },
          "metadata": {},
          "execution_count": 9
        },
        {
          "output_type": "display_data",
          "data": {
            "image/png": "[encoded data removed]",
            "text/plain": [
              "<Figure size 576x288 with 1 Axes>"
            ]
          },
          "metadata": {
            "needs_background": "light"
          }
        }
      ]
    },
    {
      "cell_type": "code",
      "metadata": {
        "colab": {
          "base_uri": "https://localhost:8080/"
        },
        "id": "ZGMz4j2ejAqi",
        "outputId": "c8c5a4c5-87db-4fc6-da2f-49aa935f9eaa"
      },
      "source": [
        "#check for dupicate records\n",
        "for i in df.duplicated():\n",
        "    if i == True:\n",
        "        ans = 0\n",
        "    else:\n",
        "        ans = 1\n",
        "if ans == 1:\n",
        "    print('Good to go!, No duplicates')\n",
        "else:\n",
        "    print('There are duplicates')"
      ],
      "execution_count": null,
      "outputs": [
        {
          "output_type": "stream",
          "name": "stdout",
          "text": [
            "Good to go!, No duplicates\n"
          ]
        }
      ]
    },
    {
      "cell_type": "code",
      "metadata": {
        "id": "M1ZlTUWbjJpE"
      },
      "source": [
        "# Change the Dt_Customer field data type to datetime\n",
        "df['Dt_Customer'] = pd.to_datetime(df['Dt_Customer'], format='%m/%d/%y')"
      ],
      "execution_count": null,
      "outputs": []
    },
    {
      "cell_type": "markdown",
      "metadata": {
        "id": "Ea7CNt5fjRPQ"
      },
      "source": [
        "DEALING WITH CATEGORICAL DATA (Feature Engineering)"
      ]
    },
    {
      "cell_type": "code",
      "metadata": {
        "colab": {
          "base_uri": "https://localhost:8080/"
        },
        "id": "3SgdsOQdjOAW",
        "outputId": "c2f07db4-c545-4db4-f0b0-b421a1c25c7e"
      },
      "source": [
        "categorical_variables = ['Education','Marital_Status','Country']\n",
        "for i in categorical_variables:\n",
        "    print('{} Unique Values: {}'.format(i,df[i].unique()))\n",
        " "
      ],
      "execution_count": null,
      "outputs": [
        {
          "output_type": "stream",
          "name": "stdout",
          "text": [
            "Education Unique Values: ['Graduation' 'PhD' '2n Cycle' 'Master' 'Basic']\n",
            "Marital_Status Unique Values: ['Divorced' 'Single' 'Married' 'Together' 'Widow' 'YOLO' 'Alone' 'Absurd']\n",
            "Country Unique Values: ['SP' 'CA' 'US' 'AUS' 'GER' 'IND' 'SA' 'ME']\n"
          ]
        }
      ]
    },
    {
      "cell_type": "markdown",
      "metadata": {
        "id": "Apu7ac19jdIZ"
      },
      "source": [
        "\"Education\" and \"Marital_Status\" have values than be joined into one category for simpler data handling. For example, 2n Cycle and Master are equal. So there can be 4 categories now: Basic = High School (HS), Graduation = Bachelors, Masters, PhD. Same case for Martial_Status values; Single, Widow, YOLO, Alone and Absurd can be joined together as 1 category: Single. While Married and Together can be put together as a Couple. (There is no description that explains if Together means as a married couple or as in a relationship)"
      ]
    },
    {
      "cell_type": "code",
      "metadata": {
        "id": "rkmbaOkEkwKJ"
      },
      "source": [
        "#2nd cycle = graduate/masters level so that can be combined\n",
        "#Basic = High School (HS)\n",
        "df['Education'] = df['Education'].replace(['2n Cycle'], value='Master')\n",
        "df['Education'] = df['Education'].replace(['Graduation'], value='Bachelor')\n",
        "df['Education'] = df['Education'].replace(['Basic'], value='HS')\n",
        "\n",
        "#We can create 2 Marital Status column, 1 which is an overview where 0 = Single or 1 = Not Single/Couple     \n",
        "#The other one could be seperated into 4 categories: Single, Married, Divorced, Widow (#Assuming absurd is single)\n",
        "df['Marital_Status'] = df['Marital_Status'].replace(['YOLO', 'Alone', 'Absurd'], value='Single')\n",
        "df['Marital_Status'] = df['Marital_Status'].replace(['Together','Married'], value='Couple')\n",
        "df['Relationship_Status'] = df['Marital_Status'].replace(['Couple'], value=1)\n",
        "df['Relationship_Status'] = df['Relationship_Status'].replace(['Single','Widow','Divorced'], value=0)\n"
      ],
      "execution_count": null,
      "outputs": []
    },
    {
      "cell_type": "code",
      "metadata": {
        "colab": {
          "base_uri": "https://localhost:8080/"
        },
        "id": "krPcbkFkmEzz",
        "outputId": "af65a289-3549-4eb1-dbc2-057000bcf325"
      },
      "source": [
        "print(df['Relationship_Status'].value_counts())"
      ],
      "execution_count": null,
      "outputs": [
        {
          "output_type": "stream",
          "name": "stdout",
          "text": [
            "1    1444\n",
            "0     796\n",
            "Name: Relationship_Status, dtype: int64\n"
          ]
        }
      ]
    },
    {
      "cell_type": "code",
      "metadata": {
        "colab": {
          "base_uri": "https://localhost:8080/",
          "height": 982
        },
        "id": "oP8UcvQnnJcV",
        "outputId": "4c299574-31e3-48e7-b1f1-57b9d69b2289"
      },
      "source": [
        "for i in range(len(categorical_variables)):\n",
        "  plt.figure(i+1)\n",
        "  val = df[categorical_variables[i]].value_counts()\n",
        "  sns.barplot(val.index, val.values, alpha=0.9)\n",
        "  plt.title('Frequency Distribution of {}'.format(categorical_variables[i]))\n",
        "  plt.ylabel('Frequency', fontsize=12)\n",
        "  plt.xlabel('{}'.format(categorical_variables[i]), fontsize=12)"
      ],
      "execution_count": null,
      "outputs": [
        {
          "output_type": "stream",
          "name": "stderr",
          "text": [
            "/usr/local/lib/python3.7/dist-packages/seaborn/_decorators.py:43: FutureWarning: Pass the following variables as keyword args: x, y. From version 0.12, the only valid positional argument will be `data`, and passing other arguments without an explicit keyword will result in an error or misinterpretation.\n",
            "  FutureWarning\n",
            "/usr/local/lib/python3.7/dist-packages/seaborn/_decorators.py:43: FutureWarning: Pass the following variables as keyword args: x, y. From version 0.12, the only valid positional argument will be `data`, and passing other arguments without an explicit keyword will result in an error or misinterpretation.\n",
            "  FutureWarning\n",
            "/usr/local/lib/python3.7/dist-packages/seaborn/_decorators.py:43: FutureWarning: Pass the following variables as keyword args: x, y. From version 0.12, the only valid positional argument will be `data`, and passing other arguments without an explicit keyword will result in an error or misinterpretation.\n",
            "  FutureWarning\n"
          ]
        },
        {
          "output_type": "display_data",
          "data": {
            "image/png": "[encoded data removed]",
            "text/plain": [
              "<Figure size 432x288 with 1 Axes>"
            ]
          },
          "metadata": {
            "needs_background": "light"
          }
        },
        {
          "output_type": "display_data",
          "data": {
            "image/png": "[encoded data removed]",
            "text/plain": [
              "<Figure size 432x288 with 1 Axes>"
            ]
          },
          "metadata": {
            "needs_background": "light"
          }
        },
        {
          "output_type": "display_data",
          "data": {
            "image/png": "[encoded data removed]",
            "text/plain": [
              "<Figure size 432x288 with 1 Axes>"
            ]
          },
          "metadata": {
            "needs_background": "light"
          }
        }
      ]
    },
    {
      "cell_type": "code",
      "metadata": {
        "id": "lp4WuMvXdgB1"
      },
      "source": [
        "df['Children'] = np.where(df.Kidhome+df.Teenhome > 0, 1, 0) #FOR MORE UPPER LEVEL ANALYSIS\n"
      ],
      "execution_count": null,
      "outputs": []
    },
    {
      "cell_type": "code",
      "metadata": {
        "colab": {
          "base_uri": "https://localhost:8080/",
          "height": 52
        },
        "id": "hXYyEa0SeSm2",
        "outputId": "375f75d1-665d-463c-d26a-af240e065e6f"
      },
      "source": [
        "''' IN PROGRESS\n",
        "#TOTAL CAMPAIGNS (CMP) ACCEPTED BY CUSTOMERS \n",
        "df['Total_Cmp_Accepted'] = np.zeros(2240)\n",
        "for j in df.loc['Total_Cmp_Accepted']:\n",
        "  for i in range(len(df)):\n",
        "      j = df['AcceptedCmp1'][i] + df['AcceptedCmp2'][i] + df['AcceptedCmp3'][i] + df['AcceptedCmp4'][i] + df['AcceptedCmp5'][i]\n",
        "'''"
      ],
      "execution_count": 1,
      "outputs": [
        {
          "output_type": "execute_result",
          "data": {
            "application/vnd.google.colaboratory.intrinsic+json": {
              "type": "string"
            },
            "text/plain": [
              "\"\\n#TOTAL CAMPAIGNS (CMP) ACCEPTED BY CUSTOMERS \\ndf['Total_Cmp_Accepted'] = np.zeros(2240)\\nfor j in df.loc['Total_Cmp_Accepted']:\\n  for i in range(len(df)):\\n      j = df['AcceptedCmp1'][i] + df['AcceptedCmp2'][i] + df['AcceptedCmp3'][i] + df['AcceptedCmp4'][i] + df['AcceptedCmp5'][i]\\n\""
            ]
          },
          "metadata": {},
          "execution_count": 1
        }
      ]
    }
  ]
}