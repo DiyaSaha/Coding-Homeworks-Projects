{
  "nbformat": 4,
  "nbformat_minor": 0,
  "metadata": {
    "colab": {
      "name": "Multivariate_Gaussian.ipynb",
      "provenance": [],
      "authorship_tag": "ABX9TyOxN/DbyP7pqxdVsmuL7FwP"
    },
    "kernelspec": {
      "name": "python3",
      "display_name": "Python 3"
    }
  },
  "cells": [
    {
      "cell_type": "code",
      "metadata": {
        "id": "SCvOcJYoKwFu",
        "outputId": "b7ae2aab-fccd-4536-83d7-454307586c6e",
        "colab": {
          "base_uri": "https://localhost:8080/"
        }
      },
      "source": [
        "import numpy as np\n",
        "!git clone https://github.com/smcantab/chen5595-fall2020\n",
        "data = np.loadtxt('./chen5595-fall2020/homework/mgm-hw7.txt')"
      ],
      "execution_count": 3,
      "outputs": [
        {
          "output_type": "stream",
          "text": [
            "fatal: destination path 'chen5595-fall2020' already exists and is not an empty directory.\n"
          ],
          "name": "stdout"
        }
      ]
    },
    {
      "cell_type": "code",
      "metadata": {
        "id": "Rht8BcIpKxno",
        "outputId": "574a1b03-0ef1-4865-fa17-3b2c5935582c",
        "colab": {
          "base_uri": "https://localhost:8080/"
        }
      },
      "source": [
        "import matplotlib.pyplot as plt\n",
        "import numpy as np \n",
        "from sklearn.cluster import KMeans\n",
        "import copy\n",
        "from scipy.stats import multivariate_normal as mvn\n",
        "class MultivariateGaussianMixture(object):\n",
        "    def __init__(self,\n",
        "            n_components,\n",
        "            max_iter,\n",
        "            mu=None,\n",
        "            cov=None,\n",
        "            pi=None):\n",
        "        \"\"\"\n",
        "        Constructor of mixture of Gaussians\n",
        "        Parameters\n",
        "        ----------\n",
        "        n_components : int\n",
        "        number of gaussian component\n",
        "        mu : (n_components, ndim) np.ndarray\n",
        "        mean parameter of each gaussian component\n",
        "        cov : (n_components, ndim, ndim) np.ndarray\n",
        "        variance parameter of each gaussian component\n",
        "        coef : (n_components,) np.ndarray\n",
        "        mixing coefficients\n",
        "        \"\"\"\n",
        "        self.n_components = n_components\n",
        "        self.max_iter = max_iter\n",
        "        self.mu = mu\n",
        "        self.cov = cov\n",
        "        self.pi = pi \n",
        "        \n",
        "    # def _gauss(self, X):\n",
        "    # returns K Gaussians evaluated on data set of observations X\n",
        "    \n",
        "    def _expectation(self, X):\n",
        "        # performs the E step\n",
        "        # returns the responsibilities resps\n",
        "        self.gamma = np.zeros((X.shape[0], self.n_components))\n",
        "        for k in range(self.n_components):\n",
        "            self.gamma[:,k] = self.pi[k] * mvn.pdf(X, self.mu[k,:], self.cov[k])\n",
        "        # normalize across columns to make the sum probabilities to 1\n",
        "        gamma_norm = np.sum(self.gamma, axis=1)[:,np.newaxis]\n",
        "        self.gamma = self.gamma/gamma_norm\n",
        "        return self.gamma\n",
        "    \n",
        "    \n",
        "    def _maximization(self, X):\n",
        "        # performs the M step\n",
        "        # updates self.mu, self.cov, self.pi\n",
        "        '''\n",
        "        Used the aweights feature to update the covariance\n",
        "        (see more in https://numpy.org/doc/stable/reference/generated/numpy.cov.html)\n",
        "        \n",
        "        made sure gamma was giving the \n",
        "        right probabilities by normalizing it and making sure sum(gamma[all rows])=1\n",
        "        '''\n",
        "        self.pi = np.mean(self.gamma,axis = 0)\n",
        "        self.mu = np.dot(self.gamma.T,X)/np.sum(self.gamma,axis = 0)\n",
        "        new_cov1 = (np.cov(X.T,aweights = self.gamma[:,0],ddof = 0))/np.sum(self.gamma[0],axis=0)\n",
        "        new_cov2 = (np.cov(X.T,aweights = self.gamma[:,1],ddof = 0))/np.sum(self.gamma[1],axis=0)\n",
        "        self.cov = np.array((new_cov1,new_cov2))\n",
        "        return self.pi, self.mu, self.cov\n",
        "   \n",
        "    def fit(self, X ):\n",
        "    # write a `while` statement that performs self._expectation and self.maximization\n",
        "    # until the parameters stop changing (you can use the function np.allclose)\n",
        "        for i in range(self.max_iter): \n",
        "          mu_old = copy.deepcopy(self.mu)\n",
        "          self.gamma = self._expectation(X)\n",
        "          self.pi = self._maximization(X)[0]\n",
        "          self.mu = self._maximization(X)[1]\n",
        "          self.cov = self._maximization(X)[2]\n",
        "          if np.allclose(mu_old,self.mu):\n",
        "            print('No.of iterations =',i)\n",
        "            break\n",
        "      \n",
        "    def responsibilities(self, X):\n",
        "         return self._expectation(X)\n",
        "\n",
        "# Intial Parameter Values \n",
        "Kmean = KMeans(n_clusters = 2)\n",
        "Kmean.fit(data)\n",
        "prediction = Kmean.predict(data)\n",
        "centers = Kmean.cluster_centers_ \n",
        "Cluster1 = np.array(data[prediction==0]).T\n",
        "Cluster2 = np.array(data[prediction==1]).T\n",
        "initial_mu = np.array(([-2,6],[0,9])) #would have used centers, but then realized should use a random starting point\n",
        "initial_cov = np.array((np.cov(Cluster1),np.cov(Cluster2)))\n",
        "initial_pi = np.array([0.2,0.5])\n",
        "\n",
        "#First Iteration\n",
        "GM = MultivariateGaussianMixture(2,1,initial_mu,initial_cov,initial_pi)\n",
        "GM.fit(data)\n",
        "\n",
        "print('means for first iteration=',GM.mu)\n",
        "print('cov for first iteration=',GM.cov)\n",
        "\n",
        "\n",
        "#Last Iternation \n",
        "GM = MultivariateGaussianMixture(2,200,initial_mu,initial_cov,initial_pi)\n",
        "GM.fit(data)\n",
        "\n",
        "print('means for last iteration=',GM.mu)\n",
        "print('cov for last iteration=',GM.cov)\n"
      ],
      "execution_count": 6,
      "outputs": [
        {
          "output_type": "stream",
          "text": [
            "means for first iteration= [[-0.10744593 -0.12954955]\n",
            " [ 6.92795282  7.01491676]]\n",
            "cov for first iteration= [[[ 0.96211662  0.03829517]\n",
            "  [ 0.03829517  1.04846494]]\n",
            "\n",
            " [[ 0.99157214 -0.04258472]\n",
            "  [-0.04258472  0.9574764 ]]]\n",
            "No.of iterations = 2\n",
            "means for last iteration= [[-0.10745973 -0.12956232]\n",
            " [ 6.92798199  7.01491402]]\n",
            "cov for last iteration= [[[ 0.9620355   0.03821625]\n",
            "  [ 0.03821625  1.04838887]]\n",
            "\n",
            " [[ 0.99157061 -0.04258491]\n",
            "  [-0.04258491  0.9574768 ]]]\n"
          ],
          "name": "stdout"
        }
      ]
    }
  ]
}