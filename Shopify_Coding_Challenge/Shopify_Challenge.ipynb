{
  "nbformat": 4,
  "nbformat_minor": 0,
  "metadata": {
    "colab": {
      "name": "Shopify_Challenge.ipynb",
      "provenance": []
    },
    "kernelspec": {
      "name": "python3",
      "display_name": "Python 3"
    },
    "language_info": {
      "name": "python"
    }
  },
  "cells": [
    {
      "cell_type": "markdown",
      "metadata": {
        "id": "tJrkz-YwIDfa"
      },
      "source": [
        "**Question 1**"
      ]
    },
    {
      "cell_type": "code",
      "metadata": {
        "colab": {
          "base_uri": "https://localhost:8080/",
          "height": 204
        },
        "id": "_g42dVwY6v5E",
        "outputId": "2f1caa68-42d1-4f17-a42b-39514946b378"
      },
      "source": [
        "#Imported Modules\n",
        "import pandas as pd \n",
        "import numpy as np\n",
        "import statistics \n",
        "import matplotlib.pyplot as plt\n",
        "\n",
        "data = pd.read_excel('2019 Winter Data Science Intern Challenge Data Set.xlsx', header =0)\n",
        "#Intial look at the data\n",
        "data.head()"
      ],
      "execution_count": null,
      "outputs": [
        {
          "output_type": "execute_result",
          "data": {
            "text/html": [
              "<div>\n",
              "<style scoped>\n",
              "    .dataframe tbody tr th:only-of-type {\n",
              "        vertical-align: middle;\n",
              "    }\n",
              "\n",
              "    .dataframe tbody tr th {\n",
              "        vertical-align: top;\n",
              "    }\n",
              "\n",
              "    .dataframe thead th {\n",
              "        text-align: right;\n",
              "    }\n",
              "</style>\n",
              "<table border=\"1\" class=\"dataframe\">\n",
              "  <thead>\n",
              "    <tr style=\"text-align: right;\">\n",
              "      <th></th>\n",
              "      <th>order_id</th>\n",
              "      <th>shop_id</th>\n",
              "      <th>user_id</th>\n",
              "      <th>order_amount</th>\n",
              "      <th>total_items</th>\n",
              "      <th>payment_method</th>\n",
              "      <th>created_at</th>\n",
              "    </tr>\n",
              "  </thead>\n",
              "  <tbody>\n",
              "    <tr>\n",
              "      <th>0</th>\n",
              "      <td>1</td>\n",
              "      <td>53</td>\n",
              "      <td>746</td>\n",
              "      <td>224</td>\n",
              "      <td>2</td>\n",
              "      <td>cash</td>\n",
              "      <td>2017-03-13 12:36:56.190</td>\n",
              "    </tr>\n",
              "    <tr>\n",
              "      <th>1</th>\n",
              "      <td>2</td>\n",
              "      <td>92</td>\n",
              "      <td>925</td>\n",
              "      <td>90</td>\n",
              "      <td>1</td>\n",
              "      <td>cash</td>\n",
              "      <td>2017-03-03 17:38:51.999</td>\n",
              "    </tr>\n",
              "    <tr>\n",
              "      <th>2</th>\n",
              "      <td>3</td>\n",
              "      <td>44</td>\n",
              "      <td>861</td>\n",
              "      <td>144</td>\n",
              "      <td>1</td>\n",
              "      <td>cash</td>\n",
              "      <td>2017-03-14 04:23:55.595</td>\n",
              "    </tr>\n",
              "    <tr>\n",
              "      <th>3</th>\n",
              "      <td>4</td>\n",
              "      <td>18</td>\n",
              "      <td>935</td>\n",
              "      <td>156</td>\n",
              "      <td>1</td>\n",
              "      <td>credit_card</td>\n",
              "      <td>2017-03-26 12:43:36.649</td>\n",
              "    </tr>\n",
              "    <tr>\n",
              "      <th>4</th>\n",
              "      <td>5</td>\n",
              "      <td>18</td>\n",
              "      <td>883</td>\n",
              "      <td>156</td>\n",
              "      <td>1</td>\n",
              "      <td>credit_card</td>\n",
              "      <td>2017-03-01 04:35:10.773</td>\n",
              "    </tr>\n",
              "  </tbody>\n",
              "</table>\n",
              "</div>"
            ],
            "text/plain": [
              "   order_id  shop_id  ...  payment_method              created_at\n",
              "0         1       53  ...            cash 2017-03-13 12:36:56.190\n",
              "1         2       92  ...            cash 2017-03-03 17:38:51.999\n",
              "2         3       44  ...            cash 2017-03-14 04:23:55.595\n",
              "3         4       18  ...     credit_card 2017-03-26 12:43:36.649\n",
              "4         5       18  ...     credit_card 2017-03-01 04:35:10.773\n",
              "\n",
              "[5 rows x 7 columns]"
            ]
          },
          "metadata": {},
          "execution_count": 2
        }
      ]
    },
    {
      "cell_type": "code",
      "metadata": {
        "colab": {
          "base_uri": "https://localhost:8080/"
        },
        "id": "Y8cA6Mpi7hv5",
        "outputId": "cd86d7e0-001c-4065-8bc5-3672ce83bdb5"
      },
      "source": [
        "#Reproducing naive AOV calculation: \n",
        "naive_AOV = np.sum(data['order_amount'])/len(data)\n",
        "print('Naive AOV is =', naive_AOV)"
      ],
      "execution_count": null,
      "outputs": [
        {
          "output_type": "stream",
          "name": "stdout",
          "text": [
            "Naive AOV is = 3145.128\n"
          ]
        }
      ]
    },
    {
      "cell_type": "markdown",
      "metadata": {
        "id": "Z7DAN5pp8PZl"
      },
      "source": [
        "From the first 5 rows of data, it is clear that while all the shops are selling the same item (sneaker), they are not sold at the same price. For example, at shop ID 92 the sneaker is sold at 90 whereas at ID 44 its sold at 144. This is the first area, I will look at to figure out what is going wrong with the calculation"
      ]
    },
    {
      "cell_type": "code",
      "metadata": {
        "colab": {
          "base_uri": "https://localhost:8080/",
          "height": 312
        },
        "id": "AwRBoEDM8-Vb",
        "outputId": "3eef23e1-6412-40b4-a94e-545ecf5070fc"
      },
      "source": [
        "price_per_shop = []\n",
        "shop_id = []\n",
        "#Price of same sneaker different in each shop\n",
        "for i in range(101):\n",
        "    for j in range(len(data)):        \n",
        "        if i == data['shop_id'][j]:\n",
        "            price_per_shop.append(data['order_amount'][j]/data['total_items'][j])\n",
        "            shop_id.append(i)\n",
        "            break\n",
        "plt.plot(shop_id, price_per_shop)\n",
        "plt.title('Price of sneakers per Shop ID')\n",
        "plt.xlabel('Shop ID')\n",
        "plt.ylabel('Price')"
      ],
      "execution_count": null,
      "outputs": [
        {
          "output_type": "execute_result",
          "data": {
            "text/plain": [
              "Text(0, 0.5, 'Price')"
            ]
          },
          "metadata": {},
          "execution_count": 6
        },
        {
          "output_type": "display_data",
          "data": {
            "image/png": "[encoded data removed]",
            "text/plain": [
              "<Figure size 432x288 with 1 Axes>"
            ]
          },
          "metadata": {
            "needs_background": "light"
          }
        }
      ]
    },
    {
      "cell_type": "markdown",
      "metadata": {
        "id": "Uw6ZlmcJ-cDd"
      },
      "source": [
        "As provided in the instructions, the prices of sneakers are mostly relatively affordable (Price = 153). Therefore, there is an outlier - one of the Shop_IDs has a very high unit (sneaker) price which could be one of the reasons to skew the AOV"
      ]
    },
    {
      "cell_type": "code",
      "metadata": {
        "colab": {
          "base_uri": "https://localhost:8080/"
        },
        "id": "g1Yg588A_KtN",
        "outputId": "92ae7411-29e9-46d8-bfa4-14e694219d02"
      },
      "source": [
        "print('Most common sneaker price =', statistics.mode(price_per_shop))\n",
        "print('Shop_ID of outlier =',price_per_shop.index(max(price_per_shop))+1)\n",
        "print('Average sneaker price BEFORE removing outlier =',round(np.mean(price_per_shop)))\n",
        "print('Average sneaker price AFTER removing outlier =',round(np.sum(price_per_shop[:77]+price_per_shop[78:])/100))"
      ],
      "execution_count": null,
      "outputs": [
        {
          "output_type": "stream",
          "name": "stdout",
          "text": [
            "Most common sneaker price = 153.0\n",
            "Shop_ID of outlier = 78\n",
            "Average sneaker price BEFORE removing outlier = 408\n",
            "Average sneaker price AFTER removing outlier = 151\n"
          ]
        }
      ]
    },
    {
      "cell_type": "code",
      "metadata": {
        "id": "Mw9LKZrW_2qd",
        "colab": {
          "base_uri": "https://localhost:8080/"
        },
        "outputId": "ab462ed9-430c-44fe-de5a-8ea9eaa3d2ed"
      },
      "source": [
        "#Would removing the outlier (Shop ID 78, fix the AOV?)\n",
        "order_amt = []\n",
        "#Removing shop_id 78 from AOV calc\n",
        "for i in range(len(data)):\n",
        "    if data['shop_id'][i] != 78:\n",
        "        order_amt.append(data['order_amount'][i])\n",
        "print('AOV_1 =',round(np.mean(order_amt)))     "
      ],
      "execution_count": null,
      "outputs": [
        {
          "output_type": "stream",
          "name": "stdout",
          "text": [
            "AOV_1 = 2717\n"
          ]
        }
      ]
    },
    {
      "cell_type": "markdown",
      "metadata": {
        "id": "f6pi08-sFIIv"
      },
      "source": [
        "While, the AOV_1 is lower than the intial naive AOV calculation of 3145 there is still something wrong which is spiking the AOV. Below is a histrogram of all the orders to get a picture"
      ]
    },
    {
      "cell_type": "code",
      "metadata": {
        "colab": {
          "base_uri": "https://localhost:8080/",
          "height": 330
        },
        "id": "l0tM4LM8F-rU",
        "outputId": "e0dfcf37-d069-4bb7-8efb-c6d857007dad"
      },
      "source": [
        "plt.hist(data['order_amount'])\n",
        "plt.xlabel('Order Amt')\n",
        "plt.ylabel('Frequency')\n",
        "print('Mode value of all the orders =', statistics.mode(data['order_amount']))\n",
        "print('Median value of all the orders =', statistics.median(data['order_amount']))\n",
        "print('Maximum value of all the orders =', max(data['order_amount']))"
      ],
      "execution_count": null,
      "outputs": [
        {
          "output_type": "stream",
          "name": "stdout",
          "text": [
            "Mode value of all the orders = 153\n",
            "Median value of all the orders = 284.0\n",
            "Maximum value of all the orders = 704000\n"
          ]
        },
        {
          "output_type": "display_data",
          "data": {
            "image/png": "[encoded data removed]",
            "text/plain": [
              "<Figure size 432x288 with 1 Axes>"
            ]
          },
          "metadata": {
            "needs_background": "light"
          }
        }
      ]
    },
    {
      "cell_type": "markdown",
      "metadata": {
        "id": "_g2KOnCzHvKo"
      },
      "source": [
        "While the highest frequency of orders had an amoutn of 153, couple of orders had a value of 704000 which skewed the AOV. While, other than including the shop_ID 78 having an outlier per unit price of a sneaker, the calculation for AOV was correct. For the purposes of understanding how much revenue each 'typical' order makes - a better way evaluating this would be the Mode. This would be the order value most frequently observed which describes a 'typical' order. Therefore, the calculated Mode of the all the shops, over the last 30 days is shown below:"
      ]
    },
    {
      "cell_type": "code",
      "metadata": {
        "colab": {
          "base_uri": "https://localhost:8080/"
        },
        "id": "huaRD6IXKmPc",
        "outputId": "e166342b-41ee-49ed-be18-e30c11f85a37"
      },
      "source": [
        "print('Mode value of all the orders =', statistics.mode(data['order_amount']))"
      ],
      "execution_count": null,
      "outputs": [
        {
          "output_type": "stream",
          "name": "stdout",
          "text": [
            "Mode value of all the orders = 153\n"
          ]
        }
      ]
    },
    {
      "cell_type": "markdown",
      "metadata": {
        "id": "QpsfRd4HXsVx"
      },
      "source": [
        "**QUESTION 2**"
      ]
    },
    {
      "cell_type": "markdown",
      "metadata": {
        "id": "f8H1rE9rX7AW"
      },
      "source": [
        "a. SELECT count(OrderID) FROM [Orders] where ShipperID = 1\n",
        "\n",
        "54 orders were shipped with Speedy Express. From the 'Shippers' table, ShiperID = 1 = Speedy Express. "
      ]
    },
    {
      "cell_type": "markdown",
      "metadata": {
        "id": "f-NzUFdZYYx-"
      },
      "source": [
        "b. \n",
        "SELECT EmployeeID, COUNT(EmployeeID) AS Freq\n",
        "FROM [Orders]\n",
        "GROUP BY EmployeeID\n",
        "ORDER BY COUNT(EmployeeID)DESC\n",
        "\n",
        "Employee ID 4 had the most orders who's last name is Peacock\n"
      ]
    },
    {
      "cell_type": "markdown",
      "metadata": {
        "id": "6OVYgbvE3SeT"
      },
      "source": [
        "c. SELECT CustomerID FROM [Customers] where Country == 'Germany'\n",
        "\n",
        "\n",
        "SELECT o.CustomerID FROM [Orders] AS o\n",
        "where (SELECT c.CustomerID FROM [Customers] AS c where c.Country == 'Germany') == o.CustomerID"
      ]
    }
  ]
}